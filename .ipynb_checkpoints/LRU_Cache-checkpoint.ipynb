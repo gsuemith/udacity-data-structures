{
 "cells": [
  {
   "cell_type": "code",
   "execution_count": 106,
   "metadata": {},
   "outputs": [],
   "source": [
    "class LRU_Cache(object):\n",
    "\n",
    "    def __init__(self, capacity):\n",
    "        # Initialize class variables\n",
    "        self.cache = dict()\n",
    "        self.cap = capacity\n",
    "        self.size = 0\n",
    "        self.mru = None\n",
    "        self.lru = None\n",
    "\n",
    "    def get(self, key):\n",
    "        # Retrieve item from provided key. Return -1 if nonexistent. \n",
    "        if key in self.cache:\n",
    "            node = self.cache[key]\n",
    "            \n",
    "            self.remove(node)\n",
    "            self.enq(node)\n",
    "            \n",
    "            return node.value\n",
    "        return -1\n",
    " \n",
    "\n",
    "    def set(self, key, value):\n",
    "        # Set the value if the key is not present in the cache. \n",
    "        # If the cache is at capacity remove the oldest item. \n",
    "        node = DLL(key, value)\n",
    "        \n",
    "        if self.size == self.cap:\n",
    "            to_delete = self.deq()\n",
    "            del(self.cache[to_delete.key])\n",
    "        \n",
    "        self.enq(node)\n",
    "        self.cache[key] = node\n",
    "            \n",
    "     \n",
    "    # Remove node from linked-list\n",
    "    # Adjust MRU and LRU if needed\n",
    "    # return isolated node\n",
    "    def remove(self, node):\n",
    "        if node is self.mru:\n",
    "            self.mru = self.mru.next\n",
    "        elif node is self.lru:\n",
    "            self.lru = self.lru.prev\n",
    "            \n",
    "        if node.prev:\n",
    "            node.prev.next = node.next\n",
    "        if node.next:\n",
    "            node.next.prev = node.prev\n",
    "            \n",
    "        node.prev = None\n",
    "        node.next = None\n",
    "        self.size -= 1\n",
    "        \n",
    "        return node\n",
    "    \n",
    "    # Remove Least Recently Used\n",
    "    def deq(self):\n",
    "        return self.remove(self.lru)\n",
    "    \n",
    "    # Add to front of linked-list\n",
    "    def enq(self, node):\n",
    "        if self.size == 0:\n",
    "            self.mru = node\n",
    "            self.lru = node\n",
    "            self.size += 1\n",
    "            return node\n",
    "            \n",
    "        self.mru.prev = node\n",
    "        node.next = self.mru\n",
    "        self.mru = node\n",
    "        \n",
    "        self.size += 1\n",
    "        \n",
    "        return node\n",
    "      \n",
    "        \n",
    "class DLL:\n",
    "    def __init__(self, key, value):\n",
    "        self.key = key\n",
    "        self.value = value\n",
    "        self.prev = None\n",
    "        self.next = None\n",
    "            "
   ]
  },
  {
   "cell_type": "code",
   "execution_count": 107,
   "metadata": {},
   "outputs": [],
   "source": [
    "our_cache = LRU_Cache(5)\n",
    "\n",
    "our_cache.set(1, 1)\n",
    "our_cache.set(2, 2)\n",
    "our_cache.set(3, 3)\n",
    "our_cache.set(4, 4)\n"
   ]
  },
  {
   "cell_type": "code",
   "execution_count": 108,
   "metadata": {},
   "outputs": [
    {
     "data": {
      "text/plain": [
       "1"
      ]
     },
     "execution_count": 108,
     "metadata": {},
     "output_type": "execute_result"
    }
   ],
   "source": [
    "our_cache.get(1)       # returns 1"
   ]
  },
  {
   "cell_type": "code",
   "execution_count": 109,
   "metadata": {},
   "outputs": [
    {
     "data": {
      "text/plain": [
       "2"
      ]
     },
     "execution_count": 109,
     "metadata": {},
     "output_type": "execute_result"
    }
   ],
   "source": [
    "our_cache.get(2)       # returns 2"
   ]
  },
  {
   "cell_type": "code",
   "execution_count": 110,
   "metadata": {},
   "outputs": [
    {
     "data": {
      "text/plain": [
       "-1"
      ]
     },
     "execution_count": 110,
     "metadata": {},
     "output_type": "execute_result"
    }
   ],
   "source": [
    "our_cache.get(9)      # returns -1 because 9 is not present in the cache"
   ]
  },
  {
   "cell_type": "code",
   "execution_count": 111,
   "metadata": {},
   "outputs": [
    {
     "data": {
      "text/plain": [
       "-1"
      ]
     },
     "execution_count": 111,
     "metadata": {},
     "output_type": "execute_result"
    }
   ],
   "source": [
    "our_cache.set(5, 5) \n",
    "our_cache.set(6, 6)\n",
    "\n",
    "our_cache.get(3)      # returns -1 because the cache reached it's capacity and 3 was the least recently used entry\n"
   ]
  },
  {
   "cell_type": "code",
   "execution_count": null,
   "metadata": {},
   "outputs": [],
   "source": []
  }
 ],
 "metadata": {
  "kernelspec": {
   "display_name": "Python 3",
   "language": "python",
   "name": "python3"
  },
  "language_info": {
   "codemirror_mode": {
    "name": "ipython",
    "version": 3
   },
   "file_extension": ".py",
   "mimetype": "text/x-python",
   "name": "python",
   "nbconvert_exporter": "python",
   "pygments_lexer": "ipython3",
   "version": "3.7.5"
  }
 },
 "nbformat": 4,
 "nbformat_minor": 2
}
