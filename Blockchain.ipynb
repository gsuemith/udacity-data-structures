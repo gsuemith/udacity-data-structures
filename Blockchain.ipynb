{
 "cells": [
  {
   "cell_type": "code",
   "execution_count": 29,
   "metadata": {},
   "outputs": [],
   "source": [
    "import hashlib\n",
    "from datetime import datetime\n",
    "\n",
    "class Block:\n",
    "    def __init__(self, timestamp, data, previous_hash):\n",
    "        self.timestamp = timestamp.strftime(\"%H:%M %m/%d/%Y\")\n",
    "        self.data = data\n",
    "        self.previous_hash = previous_hash\n",
    "        self.hash = self.calc_hash()\n",
    "        self.next = None\n",
    "\n",
    "    def calc_hash(self):\n",
    "        sha = hashlib.sha256()\n",
    "\n",
    "        string = self.timestamp + self.data + self.previous_hash\n",
    "        hash_str = string.encode('utf-8')\n",
    "        sha.update(hash_str)\n",
    "\n",
    "        return sha.hexdigest()"
   ]
  },
  {
   "cell_type": "code",
   "execution_count": 75,
   "metadata": {},
   "outputs": [],
   "source": [
    "class Blockchain:\n",
    "    '''\n",
    "    The head of each block chain is the most recent block;\n",
    "    i.e. blocks get older further down the chain\n",
    "    '''\n",
    "    def __init__(self, genesis_block):\n",
    "        self.head = genesis_block\n",
    "        \n",
    "    def add(self, data):\n",
    "        block = Block(datetime.utcnow(), data, self.head.hash)\n",
    "        block.next = self.head\n",
    "        self.head = block\n",
    "        \n",
    "    def is_valid(self):\n",
    "        '''\n",
    "        Checks to see if hashes remain correctly linked to\n",
    "        previous hashes.  Any changes to the data, timestamp, or hash\n",
    "        in any block will cause this method to return False\n",
    "        '''\n",
    "        curr_node = self.head\n",
    "        prev_node = curr_node.next\n",
    "        while prev_node:\n",
    "            if curr_node.hash != curr_node.calc_hash():\n",
    "                return False\n",
    "            if curr_node.previous_hash != prev_node.hash:\n",
    "                return False\n",
    "            \n",
    "            curr_node = prev_node\n",
    "            prev_node = prev_node.next\n",
    "     \n",
    "        return True"
   ]
  },
  {
   "cell_type": "code",
   "execution_count": 76,
   "metadata": {},
   "outputs": [
    {
     "name": "stdout",
     "output_type": "stream",
     "text": [
      "a20200a94c75010576e2d6a83e6fa69271901a9d805894b28bd91e6054fbfd10\n"
     ]
    }
   ],
   "source": [
    "hash_str = \"We are going to encode this string of data!\".encode('utf-8')\n",
    "sha = hashlib.sha256()\n",
    "sha.update(hash_str)\n",
    "print(sha.hexdigest())"
   ]
  },
  {
   "cell_type": "code",
   "execution_count": 77,
   "metadata": {},
   "outputs": [],
   "source": [
    "genesis = Block(datetime.utcnow(), 'In the beginning', '0')"
   ]
  },
  {
   "cell_type": "code",
   "execution_count": 78,
   "metadata": {},
   "outputs": [],
   "source": [
    "bc = Blockchain(genesis)"
   ]
  },
  {
   "cell_type": "code",
   "execution_count": 79,
   "metadata": {},
   "outputs": [],
   "source": [
    "bc.add('God created the heaven and the earth')\n",
    "bc.add('And the earth was without form, and void')\n",
    "bc.add('and darkness was upon the face of the deep')"
   ]
  },
  {
   "cell_type": "code",
   "execution_count": 81,
   "metadata": {},
   "outputs": [
    {
     "data": {
      "text/plain": [
       "True"
      ]
     },
     "execution_count": 81,
     "metadata": {},
     "output_type": "execute_result"
    }
   ],
   "source": [
    "genesis.data = 'In the end'\n",
    "bc.is_valid()"
   ]
  },
  {
   "cell_type": "code",
   "execution_count": null,
   "metadata": {},
   "outputs": [],
   "source": []
  }
 ],
 "metadata": {
  "kernelspec": {
   "display_name": "Python 3",
   "language": "python",
   "name": "python3"
  },
  "language_info": {
   "codemirror_mode": {
    "name": "ipython",
    "version": 3
   },
   "file_extension": ".py",
   "mimetype": "text/x-python",
   "name": "python",
   "nbconvert_exporter": "python",
   "pygments_lexer": "ipython3",
   "version": "3.7.5"
  }
 },
 "nbformat": 4,
 "nbformat_minor": 2
}
