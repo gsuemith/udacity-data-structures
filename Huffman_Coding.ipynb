{
 "cells": [
  {
   "cell_type": "code",
   "execution_count": 155,
   "metadata": {},
   "outputs": [],
   "source": [
    "import sys\n",
    "\n",
    "class Node:\n",
    "    '''\n",
    "    A hybride linked-list/binary tree node that stores a character\n",
    "    and the character's frequency\n",
    "    '''\n",
    "    def __init__(self, char, freq):\n",
    "        self.char = char\n",
    "        self.freq = freq\n",
    "        self.left = None\n",
    "        self.right = None\n",
    "        self.next = None\n",
    "        \n",
    "    def __repr__(self):\n",
    "        return f\"({self.char}, {self.freq})\"\n",
    "\n",
    "class Tree:\n",
    "    def __init__(self, root):\n",
    "        self.root = root\n",
    "        \n",
    "    def huffman_code(self):\n",
    "        h_codes = dict()\n",
    "        \n",
    "        def traverse(code, node):\n",
    "            if node.char:\n",
    "                h_codes[node.char] = code\n",
    "                return\n",
    "                \n",
    "            traverse(code + '0', node.left)\n",
    "            traverse(code + '1', node.right)\n",
    "        \n",
    "        traverse('', self.root)\n",
    "        \n",
    "        return h_codes\n",
    "        \n",
    "class Queue:\n",
    "    '''\n",
    "    A priority queue\n",
    "    '''\n",
    "    def __init__(self):\n",
    "        self.head = None\n",
    "        self.size = 0\n",
    "        \n",
    "    def enqueue(self, new_node):\n",
    "        '''\n",
    "        Appends node ahead of larger frequencies or the end\n",
    "        '''\n",
    "        if new_node is None:\n",
    "            return\n",
    "        \n",
    "        node = self.head\n",
    "        if node is None or node.freq > new_node.freq:\n",
    "            self.head = new_node\n",
    "            new_node.next = node\n",
    "            self.size += 1\n",
    "            return\n",
    "        \n",
    "        previous = None\n",
    "        while node and node.freq <= new_node.freq:\n",
    "            previous = node\n",
    "            node = node.next\n",
    "        \n",
    "        new_node.next = node\n",
    "        previous.next = new_node\n",
    "        self.size += 1\n",
    "        \n",
    "    def dequeue(self):\n",
    "        head = self.head\n",
    "        \n",
    "        if head is None:\n",
    "            return None\n",
    "    \n",
    "        self.head = head.next\n",
    "        self.size -= 1\n",
    "        return head\n",
    "    \n",
    "    def __repr__(self):\n",
    "        node = self.head\n",
    "        all_nodes = []\n",
    "        while(node):\n",
    "            all_nodes.append(str(node))\n",
    "            node = node.next\n",
    "         \n",
    "        return ', '.join(all_nodes)\n",
    "\n",
    "def huffman_encoding(data):\n",
    "    counts = dict()\n",
    "    #Count frequency\n",
    "    for char in data:\n",
    "        if char in counts:\n",
    "            counts[char] += 1\n",
    "        else:\n",
    "            counts[char] = 1\n",
    "    \n",
    "    q = Queue()\n",
    "    \n",
    "    for char in counts:\n",
    "        q.enqueue(Node(char, counts[char]))\n",
    "    \n",
    "    #Create tree\n",
    "    while q.size > 1:\n",
    "        left = q.dequeue()\n",
    "        right = q.dequeue()\n",
    "        merger = Node(None, left.freq + right.freq)\n",
    "        merger.left = left\n",
    "        merger.right = right\n",
    "        q.enqueue(merger)\n",
    "        \n",
    "    \n",
    "    tree = Tree(q.head)\n",
    "    h_codes = tree.huffman_code()\n",
    "    encoded_data = ''.join([h_codes[char] for char in data])\n",
    "   \n",
    "    return encoded_data, Tree(q.head)\n",
    "\n",
    "def huffman_decoding(data, tree):\n",
    "    decoded = []\n",
    "    \n",
    "    node = tree.root\n",
    "    \n",
    "    for bit in data:\n",
    "        if bit == '0':\n",
    "            node = node.left\n",
    "        else:\n",
    "            node = node.right\n",
    "        \n",
    "        if node.char:\n",
    "            decoded.append(node.char)\n",
    "            node = tree.root\n",
    "            \n",
    "    return ''.join(decoded)\n",
    "\n"
   ]
  },
  {
   "cell_type": "code",
   "execution_count": 156,
   "metadata": {
    "scrolled": true
   },
   "outputs": [
    {
     "name": "stdout",
     "output_type": "stream",
     "text": [
      "The size of the data is: 70\n",
      "\n",
      "The content of the data is: abra kadabra alakazam\n",
      "\n"
     ]
    }
   ],
   "source": [
    "a_great_sentence = \"abra kadabra alakazam\"\n",
    "\n",
    "print (\"The size of the data is: {}\\n\".format(sys.getsizeof(a_great_sentence)))\n",
    "print (\"The content of the data is: {}\\n\".format(a_great_sentence))\n",
    "\n",
    "encoded_data, tree = huffman_encoding(a_great_sentence)\n"
   ]
  },
  {
   "cell_type": "code",
   "execution_count": 157,
   "metadata": {},
   "outputs": [
    {
     "name": "stdout",
     "output_type": "stream",
     "text": [
      "The size of the encoded data is: 32\n",
      "\n",
      "The content of the encoded data is: 011001101011101111010000110011010111001001011110101001011\n",
      "\n"
     ]
    }
   ],
   "source": [
    "print (\"The size of the encoded data is: {}\\n\".format(sys.getsizeof(int(encoded_data, base=2))))\n",
    "print (\"The content of the encoded data is: {}\\n\".format(encoded_data))"
   ]
  },
  {
   "cell_type": "code",
   "execution_count": 158,
   "metadata": {},
   "outputs": [
    {
     "name": "stdout",
     "output_type": "stream",
     "text": [
      "The size of the decoded data is: 70\n",
      "\n",
      "The content of the encoded data is: abra kadabra alakazam\n",
      "\n"
     ]
    }
   ],
   "source": [
    "\n",
    "\n",
    "decoded_data = huffman_decoding(encoded_data, tree)\n",
    "\n",
    "print (\"The size of the decoded data is: {}\\n\".format(sys.getsizeof(decoded_data)))\n",
    "print (\"The content of the encoded data is: {}\\n\".format(decoded_data))"
   ]
  },
  {
   "cell_type": "code",
   "execution_count": 128,
   "metadata": {},
   "outputs": [
    {
     "data": {
      "text/plain": [
       "57"
      ]
     },
     "execution_count": 128,
     "metadata": {},
     "output_type": "execute_result"
    }
   ],
   "source": [
    "len(encoded_data)"
   ]
  },
  {
   "cell_type": "code",
   "execution_count": 129,
   "metadata": {},
   "outputs": [
    {
     "data": {
      "text/plain": [
       "32"
      ]
     },
     "execution_count": 129,
     "metadata": {},
     "output_type": "execute_result"
    }
   ],
   "source": [
    "sum([int(c) for c in encoded_data])"
   ]
  },
  {
   "cell_type": "code",
   "execution_count": 142,
   "metadata": {},
   "outputs": [
    {
     "data": {
      "text/plain": [
       "32"
      ]
     },
     "execution_count": 142,
     "metadata": {},
     "output_type": "execute_result"
    }
   ],
   "source": [
    "n = int(encoded_data, base = 2)\n",
    "sys.getsizeof(n)"
   ]
  },
  {
   "cell_type": "code",
   "execution_count": 132,
   "metadata": {},
   "outputs": [
    {
     "data": {
      "text/plain": [
       "106"
      ]
     },
     "execution_count": 132,
     "metadata": {},
     "output_type": "execute_result"
    }
   ],
   "source": [
    "sys.getsizeof(encoded_data)"
   ]
  },
  {
   "cell_type": "code",
   "execution_count": 137,
   "metadata": {},
   "outputs": [
    {
     "data": {
      "text/plain": [
       "28"
      ]
     },
     "execution_count": 137,
     "metadata": {},
     "output_type": "execute_result"
    }
   ],
   "source": [
    "sixteen = int('10000',2)\n",
    "thirtyone = int('11111', 2)\n",
    "sys.getsizeof(sixteen)"
   ]
  },
  {
   "cell_type": "code",
   "execution_count": 138,
   "metadata": {},
   "outputs": [
    {
     "data": {
      "text/plain": [
       "28"
      ]
     },
     "execution_count": 138,
     "metadata": {},
     "output_type": "execute_result"
    }
   ],
   "source": [
    "sys.getsizeof(thirtyone)"
   ]
  },
  {
   "cell_type": "code",
   "execution_count": 141,
   "metadata": {},
   "outputs": [
    {
     "data": {
      "text/plain": [
       "4294967296"
      ]
     },
     "execution_count": 141,
     "metadata": {},
     "output_type": "execute_result"
    }
   ],
   "source": [
    "2**(32)"
   ]
  },
  {
   "cell_type": "code",
   "execution_count": null,
   "metadata": {},
   "outputs": [],
   "source": []
  }
 ],
 "metadata": {
  "kernelspec": {
   "display_name": "Python 3",
   "language": "python",
   "name": "python3"
  },
  "language_info": {
   "codemirror_mode": {
    "name": "ipython",
    "version": 3
   },
   "file_extension": ".py",
   "mimetype": "text/x-python",
   "name": "python",
   "nbconvert_exporter": "python",
   "pygments_lexer": "ipython3",
   "version": "3.7.5"
  }
 },
 "nbformat": 4,
 "nbformat_minor": 2
}
