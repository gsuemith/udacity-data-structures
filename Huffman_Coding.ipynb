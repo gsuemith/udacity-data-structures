{
 "cells": [
  {
   "cell_type": "code",
   "execution_count": 37,
   "metadata": {},
   "outputs": [],
   "source": [
    "import sys\n",
    "\n",
    "class Node:\n",
    "    def __init__(self, char, freq):\n",
    "        self.char = char\n",
    "        self.freq = freq\n",
    "        self.left = None\n",
    "        self.right = None\n",
    "        self.next = None\n",
    "        \n",
    "class Queue:\n",
    "    def __init__(self, head = None):\n",
    "        self.head = head\n",
    "        \n",
    "    def enqueue(self, new_node):\n",
    "        if new_node is None:\n",
    "            return\n",
    "        \n",
    "        node = self.head\n",
    "        if node is None:\n",
    "            self.head = new_node\n",
    "            return\n",
    "        \n",
    "        previous = None\n",
    "        while node:\n",
    "            previous = node\n",
    "            node = node.next\n",
    "        \n",
    "        previous.next = new_node\n",
    "        \n",
    "    def dequeue(self):\n",
    "        head = self.head\n",
    "        self.head = head.next\n",
    "        return head\n",
    "    \n",
    "    def __repr__(self):\n",
    "        node = self.head\n",
    "        all_nodes = []\n",
    "        while(node):\n",
    "            all_nodes.append(f\"({node.char}, {node.freq})\")\n",
    "            node = node.next\n",
    "         \n",
    "        return ', '.join(all_nodes)\n",
    "\n",
    "def huffman_encoding(data):\n",
    "    counts = dict()\n",
    "    for char in data:\n",
    "        if char in counts:\n",
    "            counts[char] += 1\n",
    "        else:\n",
    "            counts[char] = 1\n",
    "    \n",
    "    q = Queue()\n",
    "    \n",
    "    for char in sorted(counts, key=lambda x:counts[x]):\n",
    "        q.enqueue(Node(char, counts[char]))\n",
    "        \n",
    "    q.format\n",
    "    \n",
    "    return None, None\n",
    "\n",
    "def huffman_decoding(data,tree):\n",
    "    pass\n",
    "\n"
   ]
  },
  {
   "cell_type": "code",
   "execution_count": 38,
   "metadata": {},
   "outputs": [
    {
     "name": "stdout",
     "output_type": "stream",
     "text": [
      "The size of the data is: 69\n",
      "\n",
      "The content of the data is: The bird is the word\n",
      "\n",
      "(T, 1), (b, 1), (s, 1), (t, 1), (w, 1), (o, 1), (h, 2), (e, 2), (i, 2), (r, 2), (d, 2), ( , 4)\n"
     ]
    }
   ],
   "source": [
    "a_great_sentence = \"The bird is the word\"\n",
    "\n",
    "print (\"The size of the data is: {}\\n\".format(sys.getsizeof(a_great_sentence)))\n",
    "print (\"The content of the data is: {}\\n\".format(a_great_sentence))\n",
    "\n",
    "encoded_data, tree = huffman_encoding(a_great_sentence)"
   ]
  },
  {
   "cell_type": "code",
   "execution_count": null,
   "metadata": {},
   "outputs": [],
   "source": [
    "if __name__ == \"__main__\":\n",
    "    codes = {}\n",
    "\n",
    "    \n",
    "\n",
    "    print (\"The size of the encoded data is: {}\\n\".format(sys.getsizeof(int(encoded_data, base=2))))\n",
    "    print (\"The content of the encoded data is: {}\\n\".format(encoded_data))\n",
    "\n",
    "    decoded_data = huffman_decoding(encoded_data, tree)\n",
    "\n",
    "    print (\"The size of the decoded data is: {}\\n\".format(sys.getsizeof(decoded_data)))\n",
    "    print (\"The content of the encoded data is: {}\\n\".format(decoded_data))"
   ]
  }
 ],
 "metadata": {
  "kernelspec": {
   "display_name": "Python 3",
   "language": "python",
   "name": "python3"
  },
  "language_info": {
   "codemirror_mode": {
    "name": "ipython",
    "version": 3
   },
   "file_extension": ".py",
   "mimetype": "text/x-python",
   "name": "python",
   "nbconvert_exporter": "python",
   "pygments_lexer": "ipython3",
   "version": "3.7.5"
  }
 },
 "nbformat": 4,
 "nbformat_minor": 2
}
